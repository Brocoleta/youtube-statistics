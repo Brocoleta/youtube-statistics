{
 "cells": [
  {
   "cell_type": "code",
   "execution_count": 1,
   "id": "49cdf648",
   "metadata": {},
   "outputs": [
    {
     "name": "stderr",
     "output_type": "stream",
     "text": [
      "/home/brocoleta/.local/lib/python3.9/site-packages/pandas/compat/__init__.py:124: UserWarning: Could not import the lzma module. Your installed Python is incomplete. Attempting to use lzma compression will result in a RuntimeError.\n",
      "  warnings.warn(msg)\n"
     ]
    }
   ],
   "source": [
    "import pandas as pd\n",
    "import time\n",
    "import requests\n",
    "from bs4 import BeautifulSoup\n",
    "import json\n",
    "import random\n",
    "import time\n",
    "from datetime import datetime\n",
    "import datetime\n",
    "import os\n",
    "import numpy as np \n",
    "from millify import millify,prettify\n",
    "from tqdm import tqdm\n",
    "\n",
    "import cred"
   ]
  },
  {
   "cell_type": "code",
   "execution_count": 2,
   "id": "8d50c6af",
   "metadata": {},
   "outputs": [],
   "source": [
    "DEVELOPER_KEY = cred.API_KEY"
   ]
  },
  {
   "cell_type": "markdown",
   "id": "deadd212",
   "metadata": {},
   "source": [
    "# Youtube Channel Stats\n",
    "\n",
    "[youtube_url](https://developers.google.com/youtube/v3/docs/channels?hl=es)"
   ]
  },
  {
   "cell_type": "code",
   "execution_count": 17,
   "id": "fee64143",
   "metadata": {},
   "outputs": [],
   "source": [
    "url = \"https://www.youtube.com/channel/UCy5znSnfMsDwaLlROnZ7Qbg\""
   ]
  },
  {
   "cell_type": "code",
   "execution_count": 18,
   "id": "365b0077",
   "metadata": {},
   "outputs": [
    {
     "data": {
      "text/plain": [
       "{'kind': 'youtube#channelListResponse',\n",
       " 'etag': 'Qyv2ON9hvuEXqfFnoV0BJiBeZ2g',\n",
       " 'pageInfo': {'totalResults': 1, 'resultsPerPage': 5},\n",
       " 'items': [{'kind': 'youtube#channel',\n",
       "   'etag': 'usJWFZVKwHUSlJJ8jouXGrv5WVM',\n",
       "   'id': 'UCy5znSnfMsDwaLlROnZ7Qbg',\n",
       "   'statistics': {'viewCount': '41869659',\n",
       "    'subscriberCount': '792000',\n",
       "    'hiddenSubscriberCount': False,\n",
       "    'videoCount': '181'}}]}"
      ]
     },
     "execution_count": 18,
     "metadata": {},
     "output_type": "execute_result"
    }
   ],
   "source": [
    "CHANNEL_ID = 'UCy5znSnfMsDwaLlROnZ7Qbg'\n",
    "\n",
    "url_channel_stats = 'https://youtube.googleapis.com/youtube/v3/channels?part=statistics&id='+CHANNEL_ID+'&key='+DEVELOPER_KEY\n",
    "channel_stats = requests.get(url_channel_stats).json()\n",
    "channel_stats"
   ]
  },
  {
   "cell_type": "code",
   "execution_count": 19,
   "id": "f3d291ad",
   "metadata": {},
   "outputs": [
    {
     "data": {
      "text/plain": [
       "{'Created_at': '2023-07-30',\n",
       " 'Total_Views': 41869659,\n",
       " 'Suscribers': 792000,\n",
       " 'Video_count': 181}"
      ]
     },
     "execution_count": 19,
     "metadata": {},
     "output_type": "execute_result"
    }
   ],
   "source": [
    "channel_stats = channel_stats['items'][0]['statistics']\n",
    "date = pd.to_datetime('today').strftime(\"%Y-%m-%d\")\n",
    "\n",
    "data_channel = {\n",
    "    \n",
    "    'Created_at':date,\n",
    "    'Total_Views':int(float(channel_stats['viewCount'])),\n",
    "    'Suscribers':int(float(channel_stats['subscriberCount'])),\n",
    "    'Video_count':int(float(channel_stats['videoCount'])),\n",
    "    \n",
    "}\n",
    "\n",
    "data_channel"
   ]
  },
  {
   "cell_type": "code",
   "execution_count": 21,
   "id": "8e2082ff",
   "metadata": {},
   "outputs": [
    {
     "data": {
      "text/plain": [
       "792000"
      ]
     },
     "execution_count": 21,
     "metadata": {},
     "output_type": "execute_result"
    }
   ],
   "source": [
    "data_channel['Suscribers']"
   ]
  },
  {
   "cell_type": "markdown",
   "id": "1dfa2fd7",
   "metadata": {},
   "source": [
    "# Funtions "
   ]
  },
  {
   "cell_type": "code",
   "execution_count": 22,
   "id": "b4f03986",
   "metadata": {},
   "outputs": [],
   "source": [
    "def get_stats(api_key,channel_id):\n",
    "    \n",
    "    url_channel_stats = 'https://youtube.googleapis.com/youtube/v3/channels?part=statistics&id='+channel_id+'&key='+api_key\n",
    "    channel_stats = requests.get(url_channel_stats).json()\n",
    "    \n",
    "    \n",
    "    channel_stats = channel_stats['items'][0]['statistics']\n",
    "    date = pd.to_datetime('today').strftime(\"%Y-%m-%d\")\n",
    "\n",
    "    data_channel = {\n",
    "\n",
    "        'Created_at':date,\n",
    "        'Total_Views':int(float(channel_stats['viewCount'])),\n",
    "        'Suscribers':int(float(channel_stats['subscriberCount'])),\n",
    "        'Video_count':int(float(channel_stats['videoCount'])),\n",
    "\n",
    "    }\n",
    "    \n",
    "    return data_channel"
   ]
  },
  {
   "cell_type": "code",
   "execution_count": 23,
   "id": "ad42da31",
   "metadata": {},
   "outputs": [
    {
     "data": {
      "text/plain": [
       "{'Created_at': '2023-07-30',\n",
       " 'Total_Views': 41869659,\n",
       " 'Suscribers': 792000,\n",
       " 'Video_count': 181}"
      ]
     },
     "execution_count": 23,
     "metadata": {},
     "output_type": "execute_result"
    }
   ],
   "source": [
    "get_stats(DEVELOPER_KEY,CHANNEL_ID)"
   ]
  },
  {
   "cell_type": "markdown",
   "id": "097f9123",
   "metadata": {},
   "source": [
    "# Channels to analize"
   ]
  },
  {
   "cell_type": "code",
   "execution_count": 24,
   "id": "29d2cf21",
   "metadata": {},
   "outputs": [],
   "source": [
    "channels_name  =  ['Marciaylanube','Fazt_web','PeladoNerd','Codigofacilito']\n",
    "channels_id  =  ['UCWYUbW_Lw5EQC0WybxInObA','UCoMdktPbSTixAyNGwb-UYkQ','UCrBzBOMcUVV8ryyAU_c6P5g','UCLXRGxAzeaLDGaOphqapzmg']"
   ]
  },
  {
   "cell_type": "code",
   "execution_count": 25,
   "id": "b79a68b2",
   "metadata": {},
   "outputs": [],
   "source": [
    "channels = {\n",
    "    'Channel_name':channels_name,\n",
    "    'Channel_id':channels_id}\n",
    "\n",
    "df_channels = pd.DataFrame(channels)"
   ]
  },
  {
   "cell_type": "code",
   "execution_count": 30,
   "id": "2bdd0598",
   "metadata": {},
   "outputs": [],
   "source": [
    "df_channels.to_csv('channels_to_analyze.csv')"
   ]
  },
  {
   "cell_type": "code",
   "execution_count": 26,
   "id": "41ea5b20",
   "metadata": {},
   "outputs": [
    {
     "data": {
      "text/html": [
       "<div>\n",
       "<style scoped>\n",
       "    .dataframe tbody tr th:only-of-type {\n",
       "        vertical-align: middle;\n",
       "    }\n",
       "\n",
       "    .dataframe tbody tr th {\n",
       "        vertical-align: top;\n",
       "    }\n",
       "\n",
       "    .dataframe thead th {\n",
       "        text-align: right;\n",
       "    }\n",
       "</style>\n",
       "<table border=\"1\" class=\"dataframe\">\n",
       "  <thead>\n",
       "    <tr style=\"text-align: right;\">\n",
       "      <th></th>\n",
       "      <th>Channel_name</th>\n",
       "      <th>Channel_id</th>\n",
       "    </tr>\n",
       "  </thead>\n",
       "  <tbody>\n",
       "    <tr>\n",
       "      <th>0</th>\n",
       "      <td>Marciaylanube</td>\n",
       "      <td>UCWYUbW_Lw5EQC0WybxInObA</td>\n",
       "    </tr>\n",
       "    <tr>\n",
       "      <th>1</th>\n",
       "      <td>Fazt_web</td>\n",
       "      <td>UCoMdktPbSTixAyNGwb-UYkQ</td>\n",
       "    </tr>\n",
       "    <tr>\n",
       "      <th>2</th>\n",
       "      <td>PeladoNerd</td>\n",
       "      <td>UCrBzBOMcUVV8ryyAU_c6P5g</td>\n",
       "    </tr>\n",
       "    <tr>\n",
       "      <th>3</th>\n",
       "      <td>Codigofacilito</td>\n",
       "      <td>UCLXRGxAzeaLDGaOphqapzmg</td>\n",
       "    </tr>\n",
       "  </tbody>\n",
       "</table>\n",
       "</div>"
      ],
      "text/plain": [
       "     Channel_name                Channel_id\n",
       "0   Marciaylanube  UCWYUbW_Lw5EQC0WybxInObA\n",
       "1        Fazt_web  UCoMdktPbSTixAyNGwb-UYkQ\n",
       "2      PeladoNerd  UCrBzBOMcUVV8ryyAU_c6P5g\n",
       "3  Codigofacilito  UCLXRGxAzeaLDGaOphqapzmg"
      ]
     },
     "execution_count": 26,
     "metadata": {},
     "output_type": "execute_result"
    }
   ],
   "source": [
    "df_channels"
   ]
  },
  {
   "cell_type": "code",
   "execution_count": 27,
   "id": "20cb41c6",
   "metadata": {},
   "outputs": [
    {
     "data": {
      "text/plain": [
       "{'Created_at': '2023-07-30',\n",
       " 'Total_Views': 4007206038,\n",
       " 'Suscribers': 6580000,\n",
       " 'Video_count': 36682}"
      ]
     },
     "execution_count": 27,
     "metadata": {},
     "output_type": "execute_result"
    }
   ],
   "source": [
    "get_stats(DEVELOPER_KEY,df_channels['Channel_id'][1])"
   ]
  },
  {
   "cell_type": "code",
   "execution_count": 28,
   "id": "ca60f987",
   "metadata": {},
   "outputs": [],
   "source": [
    "def channel_stats(df,api_key):\n",
    "    \n",
    "    date = []\n",
    "    views = []\n",
    "    suscriber = []\n",
    "    video_count = []\n",
    "    channel_name = []\n",
    "    \n",
    "    tiempo = [1,2.5,3,2]\n",
    "    \n",
    "    \n",
    "    for i in tqdm(range(len(df)),colour = 'green'):\n",
    "        \n",
    "        stats_temp = get_stats(DEVELOPER_KEY,df_channels['Channel_id'][i])\n",
    "        \n",
    "        date.append(stats_temp['Created_at'])\n",
    "        views.append(stats_temp['Total_Views'])\n",
    "        suscriber.append(stats_temp['Suscribers'])\n",
    "        video_count.append(stats_temp['Video_count'])\n",
    "        channel_name.append(df['Channel_name'][i])\n",
    "        \n",
    "        time.sleep(random.choice(tiempo))\n",
    "    \n",
    "    data = {\n",
    "        \n",
    "        'Channel_name':channel_name,\n",
    "        'Suscribers':suscriber,\n",
    "        'Video_Count':video_count,\n",
    "        'Total_Views':views,\n",
    "        'created_at':date,\n",
    "        \n",
    "    }\n",
    "    \n",
    "    df_channels_final = pd.DataFrame(data)\n",
    "    \n",
    "    return df_channels_final     "
   ]
  },
  {
   "cell_type": "code",
   "execution_count": 29,
   "id": "cc355470",
   "metadata": {},
   "outputs": [
    {
     "name": "stderr",
     "output_type": "stream",
     "text": [
      "  0%|\u001b[32m          \u001b[0m| 0/4 [00:00<?, ?it/s]"
     ]
    },
    {
     "name": "stderr",
     "output_type": "stream",
     "text": [
      "100%|\u001b[32m██████████\u001b[0m| 4/4 [00:07<00:00,  1.94s/it]\n"
     ]
    },
    {
     "data": {
      "text/html": [
       "<div>\n",
       "<style scoped>\n",
       "    .dataframe tbody tr th:only-of-type {\n",
       "        vertical-align: middle;\n",
       "    }\n",
       "\n",
       "    .dataframe tbody tr th {\n",
       "        vertical-align: top;\n",
       "    }\n",
       "\n",
       "    .dataframe thead th {\n",
       "        text-align: right;\n",
       "    }\n",
       "</style>\n",
       "<table border=\"1\" class=\"dataframe\">\n",
       "  <thead>\n",
       "    <tr style=\"text-align: right;\">\n",
       "      <th></th>\n",
       "      <th>Channel_name</th>\n",
       "      <th>Suscribers</th>\n",
       "      <th>Video_Count</th>\n",
       "      <th>Total_Views</th>\n",
       "      <th>created_at</th>\n",
       "    </tr>\n",
       "  </thead>\n",
       "  <tbody>\n",
       "    <tr>\n",
       "      <th>0</th>\n",
       "      <td>Marciaylanube</td>\n",
       "      <td>10300</td>\n",
       "      <td>101</td>\n",
       "      <td>283408</td>\n",
       "      <td>2023-07-30</td>\n",
       "    </tr>\n",
       "    <tr>\n",
       "      <th>1</th>\n",
       "      <td>Fazt_web</td>\n",
       "      <td>6580000</td>\n",
       "      <td>36682</td>\n",
       "      <td>4007206038</td>\n",
       "      <td>2023-07-30</td>\n",
       "    </tr>\n",
       "    <tr>\n",
       "      <th>2</th>\n",
       "      <td>PeladoNerd</td>\n",
       "      <td>149000</td>\n",
       "      <td>325</td>\n",
       "      <td>9758394</td>\n",
       "      <td>2023-07-30</td>\n",
       "    </tr>\n",
       "    <tr>\n",
       "      <th>3</th>\n",
       "      <td>Codigofacilito</td>\n",
       "      <td>716000</td>\n",
       "      <td>3209</td>\n",
       "      <td>101078351</td>\n",
       "      <td>2023-07-30</td>\n",
       "    </tr>\n",
       "  </tbody>\n",
       "</table>\n",
       "</div>"
      ],
      "text/plain": [
       "     Channel_name  Suscribers  Video_Count  Total_Views  created_at\n",
       "0   Marciaylanube       10300          101       283408  2023-07-30\n",
       "1        Fazt_web     6580000        36682   4007206038  2023-07-30\n",
       "2      PeladoNerd      149000          325      9758394  2023-07-30\n",
       "3  Codigofacilito      716000         3209    101078351  2023-07-30"
      ]
     },
     "execution_count": 29,
     "metadata": {},
     "output_type": "execute_result"
    }
   ],
   "source": [
    "channel_stats(df_channels,DEVELOPER_KEY)"
   ]
  }
 ],
 "metadata": {
  "kernelspec": {
   "display_name": "Python 3",
   "language": "python",
   "name": "python3"
  },
  "language_info": {
   "codemirror_mode": {
    "name": "ipython",
    "version": 3
   },
   "file_extension": ".py",
   "mimetype": "text/x-python",
   "name": "python",
   "nbconvert_exporter": "python",
   "pygments_lexer": "ipython3",
   "version": "3.9.1"
  }
 },
 "nbformat": 4,
 "nbformat_minor": 5
}
